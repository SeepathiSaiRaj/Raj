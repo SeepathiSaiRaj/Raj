{
 "cells": [
  {
   "cell_type": "code",
   "execution_count": null,
   "id": "fce9d408",
   "metadata": {},
   "outputs": [],
   "source": [
    "exercise 2\n",
    "#INTRODUCTION TO DATA SCIENCE"
   ]
  },
  {
   "cell_type": "code",
   "execution_count": null,
   "id": "e973ce6d",
   "metadata": {},
   "outputs": [],
   "source": [
    "exercise 3\n",
    " Data science helps us collect the pieces (data), clean and organize them, and find patterns to solve the puzzle (gain insights).  This lets us understand what happened, why, and even predict the future!\n",
    "    "
   ]
  },
  {
   "cell_type": "code",
   "execution_count": null,
   "id": "cf9ae0ed",
   "metadata": {},
   "outputs": [],
   "source": [
    "exercise 4\n",
    "python \n",
    "R\n",
    "SQL\n"
   ]
  },
  {
   "cell_type": "code",
   "execution_count": null,
   "id": "3d7f9b1d",
   "metadata": {},
   "outputs": [],
   "source": [
    "exercise 5\n",
    "pandas \n",
    "matplotlib\n",
    "numpy"
   ]
  },
  {
   "cell_type": "code",
   "execution_count": null,
   "id": "d84d6110",
   "metadata": {},
   "outputs": [],
   "source": [
    "exercise 6\n",
    "jupyter notebook\n",
    "watson studio\n",
    "sikit learn\n",
    "tensor flow"
   ]
  },
  {
   "cell_type": "code",
   "execution_count": 7,
   "id": "c59ee249",
   "metadata": {
    "scrolled": true
   },
   "outputs": [
    {
     "data": {
      "text/plain": [
       "(5, 8, 6)"
      ]
     },
     "execution_count": 7,
     "metadata": {},
     "output_type": "execute_result"
    }
   ],
   "source": [
    "#exercise 7\n",
    "(2+3),(2*4),(6%8)"
   ]
  },
  {
   "cell_type": "code",
   "execution_count": 13,
   "id": "993f94bd",
   "metadata": {},
   "outputs": [
    {
     "data": {
      "text/plain": [
       "(15, 32)"
      ]
     },
     "execution_count": 13,
     "metadata": {},
     "output_type": "execute_result"
    }
   ],
   "source": [
    "#exercise 8\n",
    "# This code multiplies and adds numbers \n",
    "product = 5 * 3\n",
    "sum = product + 17\n",
    "product, sum"
   ]
  },
  {
   "cell_type": "code",
   "execution_count": 17,
   "id": "2d8aa8c8",
   "metadata": {},
   "outputs": [
    {
     "name": "stdout",
     "output_type": "stream",
     "text": [
      "120 minutes is equal to 2.0 hours\n"
     ]
    }
   ],
   "source": [
    "#exercise 9\n",
    "# This code converts minutes to hours\n",
    "minutes = 120\n",
    "hours = minutes / 60\n",
    "print(f\"{minutes} minutes is equal to {hours} hours\")\n"
   ]
  },
  {
   "cell_type": "code",
   "execution_count": null,
   "id": "77758eb0",
   "metadata": {},
   "outputs": [],
   "source": [
    "#exercise 10\n",
    "extract knowledge from data\n",
    "solve real world problems\n",
    "identify patterns-trends"
   ]
  },
  {
   "cell_type": "code",
   "execution_count": null,
   "id": "b22914d1",
   "metadata": {},
   "outputs": [],
   "source": [
    "#exercise 11\n",
    "AUTHOR\n",
    "Sai Raj"
   ]
  }
 ],
 "metadata": {
  "kernelspec": {
   "display_name": "Python 3 (ipykernel)",
   "language": "python",
   "name": "python3"
  },
  "language_info": {
   "codemirror_mode": {
    "name": "ipython",
    "version": 3
   },
   "file_extension": ".py",
   "mimetype": "text/x-python",
   "name": "python",
   "nbconvert_exporter": "python",
   "pygments_lexer": "ipython3",
   "version": "3.11.5"
  }
 },
 "nbformat": 4,
 "nbformat_minor": 5
}
